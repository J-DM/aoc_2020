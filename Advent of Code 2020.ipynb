{
 "cells": [
  {
   "cell_type": "code",
   "execution_count": 1,
   "metadata": {},
   "outputs": [],
   "source": [
    "import pandas as pd\n",
    "import numpy as np"
   ]
  },
  {
   "cell_type": "markdown",
   "metadata": {},
   "source": [
    "### Day 1"
   ]
  },
  {
   "cell_type": "code",
   "execution_count": 24,
   "metadata": {},
   "outputs": [],
   "source": [
    "with open('d0.txt') as f:\n",
    "    p_input = f.read().splitlines()"
   ]
  },
  {
   "cell_type": "code",
   "execution_count": 25,
   "metadata": {},
   "outputs": [
    {
     "data": {
      "text/html": [
       "<div>\n",
       "<style scoped>\n",
       "    .dataframe tbody tr th:only-of-type {\n",
       "        vertical-align: middle;\n",
       "    }\n",
       "\n",
       "    .dataframe tbody tr th {\n",
       "        vertical-align: top;\n",
       "    }\n",
       "\n",
       "    .dataframe thead th {\n",
       "        text-align: right;\n",
       "    }\n",
       "</style>\n",
       "<table border=\"1\" class=\"dataframe\">\n",
       "  <thead>\n",
       "    <tr style=\"text-align: right;\">\n",
       "      <th></th>\n",
       "      <th>a</th>\n",
       "      <th>b</th>\n",
       "      <th>total</th>\n",
       "      <th>product</th>\n",
       "    </tr>\n",
       "  </thead>\n",
       "  <tbody>\n",
       "    <tr>\n",
       "      <th>2858</th>\n",
       "      <td>1771</td>\n",
       "      <td>249</td>\n",
       "      <td>2020</td>\n",
       "      <td>440979</td>\n",
       "    </tr>\n",
       "    <tr>\n",
       "      <th>11614</th>\n",
       "      <td>249</td>\n",
       "      <td>1771</td>\n",
       "      <td>2020</td>\n",
       "      <td>440979</td>\n",
       "    </tr>\n",
       "  </tbody>\n",
       "</table>\n",
       "</div>"
      ],
      "text/plain": [
       "          a     b  total  product\n",
       "2858   1771   249   2020   440979\n",
       "11614   249  1771   2020   440979"
      ]
     },
     "execution_count": 25,
     "metadata": {},
     "output_type": "execute_result"
    }
   ],
   "source": [
    "index = pd.MultiIndex.from_product([p_input, p_input], names=['a', 'b'])\n",
    "\n",
    "df = pd.DataFrame(index=index).reset_index()\n",
    "\n",
    "df.a = pd.to_numeric(df.a)\n",
    "df.b = pd.to_numeric(df.b)\n",
    "\n",
    "df['total'] = df.a + df.b\n",
    "\n",
    "results = df[df.total == 2020].copy()\n",
    "\n",
    "results[\"product\"] = results.a * results.b\n",
    "\n",
    "results"
   ]
  },
  {
   "cell_type": "code",
   "execution_count": 26,
   "metadata": {},
   "outputs": [
    {
     "data": {
      "text/html": [
       "<div>\n",
       "<style scoped>\n",
       "    .dataframe tbody tr th:only-of-type {\n",
       "        vertical-align: middle;\n",
       "    }\n",
       "\n",
       "    .dataframe tbody tr th {\n",
       "        vertical-align: top;\n",
       "    }\n",
       "\n",
       "    .dataframe thead th {\n",
       "        text-align: right;\n",
       "    }\n",
       "</style>\n",
       "<table border=\"1\" class=\"dataframe\">\n",
       "  <thead>\n",
       "    <tr style=\"text-align: right;\">\n",
       "      <th></th>\n",
       "      <th>a</th>\n",
       "      <th>b</th>\n",
       "      <th>c</th>\n",
       "      <th>total</th>\n",
       "      <th>product</th>\n",
       "    </tr>\n",
       "  </thead>\n",
       "  <tbody>\n",
       "    <tr>\n",
       "      <th>2102926</th>\n",
       "      <td>274</td>\n",
       "      <td>194</td>\n",
       "      <td>1552</td>\n",
       "      <td>2020</td>\n",
       "      <td>82498112</td>\n",
       "    </tr>\n",
       "    <tr>\n",
       "      <th>2105314</th>\n",
       "      <td>274</td>\n",
       "      <td>1552</td>\n",
       "      <td>194</td>\n",
       "      <td>2020</td>\n",
       "      <td>82498112</td>\n",
       "    </tr>\n",
       "    <tr>\n",
       "      <th>4570526</th>\n",
       "      <td>194</td>\n",
       "      <td>274</td>\n",
       "      <td>1552</td>\n",
       "      <td>2020</td>\n",
       "      <td>82498112</td>\n",
       "    </tr>\n",
       "    <tr>\n",
       "      <th>4585252</th>\n",
       "      <td>194</td>\n",
       "      <td>1552</td>\n",
       "      <td>274</td>\n",
       "      <td>2020</td>\n",
       "      <td>82498112</td>\n",
       "    </tr>\n",
       "    <tr>\n",
       "      <th>5050514</th>\n",
       "      <td>1552</td>\n",
       "      <td>274</td>\n",
       "      <td>194</td>\n",
       "      <td>2020</td>\n",
       "      <td>82498112</td>\n",
       "    </tr>\n",
       "    <tr>\n",
       "      <th>5062852</th>\n",
       "      <td>1552</td>\n",
       "      <td>194</td>\n",
       "      <td>274</td>\n",
       "      <td>2020</td>\n",
       "      <td>82498112</td>\n",
       "    </tr>\n",
       "  </tbody>\n",
       "</table>\n",
       "</div>"
      ],
      "text/plain": [
       "            a     b     c  total   product\n",
       "2102926   274   194  1552   2020  82498112\n",
       "2105314   274  1552   194   2020  82498112\n",
       "4570526   194   274  1552   2020  82498112\n",
       "4585252   194  1552   274   2020  82498112\n",
       "5050514  1552   274   194   2020  82498112\n",
       "5062852  1552   194   274   2020  82498112"
      ]
     },
     "execution_count": 26,
     "metadata": {},
     "output_type": "execute_result"
    }
   ],
   "source": [
    "index = pd.MultiIndex.from_product([p_input, p_input, p_input], names=['a', 'b', 'c'])\n",
    "\n",
    "df = pd.DataFrame(index=index).reset_index()\n",
    "\n",
    "df.a = pd.to_numeric(df.a)\n",
    "df.b = pd.to_numeric(df.b)\n",
    "df.c = pd.to_numeric(df.c)\n",
    "\n",
    "df['total'] = df.a + df.b + df.c\n",
    "\n",
    "results = df[df.total == 2020].copy()\n",
    "\n",
    "results[\"product\"] = results.a * results.b * results.c\n",
    "\n",
    "results"
   ]
  },
  {
   "cell_type": "markdown",
   "metadata": {},
   "source": [
    "### Day 2"
   ]
  },
  {
   "cell_type": "code",
   "execution_count": 23,
   "metadata": {},
   "outputs": [],
   "source": [
    "with open('d1.txt') as f:\n",
    "    pi = f.read().splitlines()\n"
   ]
  },
  {
   "cell_type": "code",
   "execution_count": 18,
   "metadata": {},
   "outputs": [
    {
     "name": "stdout",
     "output_type": "stream",
     "text": [
      "414\n"
     ]
    }
   ],
   "source": [
    "## Part 1\n",
    "\n",
    "def is_valid(pw, min_i, max_i, char):\n",
    "    return min_i <= pw.count(char) <= max_i\n",
    "\n",
    "valid = 0\n",
    "\n",
    "for pw_s in pi:\n",
    "    pw_s = pw_s.split(' ')\n",
    "    min_instances = int(pw_s[0].split('-')[0])\n",
    "    max_instances = int(pw_s[0].split('-')[1])\n",
    "    char = pw_s[1][:len(pw_s[1])-1]\n",
    "    pw = pw_s[2]\n",
    "    \n",
    "    if is_valid(pw, min_instances, max_instances, char):\n",
    "        valid += 1\n",
    "        \n",
    "print(valid)\n",
    "    "
   ]
  },
  {
   "cell_type": "code",
   "execution_count": 37,
   "metadata": {},
   "outputs": [
    {
     "name": "stdout",
     "output_type": "stream",
     "text": [
      "413\n"
     ]
    }
   ],
   "source": [
    "## Part 2\n",
    "\n",
    "def is_valid(pw, pos_1, pos_2, char):\n",
    "    c1 = None\n",
    "    c2 = None\n",
    "    \n",
    "    try:\n",
    "        c1 = pw[pos_1-1]\n",
    "    except IndexError:\n",
    "        pass\n",
    "    try:\n",
    "        c2 = pw[pos_2-1]\n",
    "    except IndexError:\n",
    "        pass\n",
    "    \n",
    "    val_c = 0\n",
    "    if c1 == char:\n",
    "        val_c += 1\n",
    "    if c2 == char:\n",
    "        val_c += 1\n",
    "    if val_c == 1:\n",
    "        return True\n",
    "    return False\n",
    "\n",
    "\n",
    "valid = 0\n",
    "\n",
    "for pw_s in pi:\n",
    "    pw_s = pw_s.split(' ')\n",
    "    pos_1 = int(pw_s[0].split('-')[0])\n",
    "    pos_2 = int(pw_s[0].split('-')[1])\n",
    "    char = pw_s[1][:len(pw_s[1])-1]\n",
    "    pw = pw_s[2]\n",
    "    \n",
    "    if is_valid(pw, pos_1, pos_2, char):\n",
    "        valid += 1\n",
    "        \n",
    "print(valid)\n"
   ]
  },
  {
   "cell_type": "markdown",
   "metadata": {},
   "source": [
    "### Day 3"
   ]
  },
  {
   "cell_type": "code",
   "execution_count": 40,
   "metadata": {},
   "outputs": [],
   "source": [
    "with open('d2_t.txt') as f:\n",
    "    t_block = f.read().splitlines()\n",
    "  \n",
    "def t_map(c):\n",
    "    if c == '.':\n",
    "        return 0\n",
    "    return 1\n",
    "\n",
    "r = [[t_map(c) for c in row] for row in t_block]"
   ]
  },
  {
   "cell_type": "code",
   "execution_count": null,
   "metadata": {},
   "outputs": [],
   "source": [
    "height = len(r)\n",
    "width = len(r[0])\n",
    "\n",
    "across = 5\n",
    "down = 1\n",
    "\n",
    "step_a = across\n",
    "step_d = down\n",
    "\n",
    "total_trees = 0\n",
    "\n",
    "def tree_or_not(r, across, down):\n",
    "    return r[down % height][across % width]\n",
    "\n",
    "while down < height:\n",
    "    is_tree = tree_or_not(r, across, down)\n",
    "    across += step_a\n",
    "    down += step_d\n",
    "    \n",
    "    total_trees += is_tree\n",
    "    \n",
    "print(total_trees)\n",
    "\n"
   ]
  },
  {
   "cell_type": "code",
   "execution_count": 45,
   "metadata": {},
   "outputs": [
    {
     "data": {
      "text/plain": [
       "3584591857"
      ]
     },
     "execution_count": 45,
     "metadata": {},
     "output_type": "execute_result"
    }
   ],
   "source": [
    "67 * 211 * 77 * 89 * 37\n"
   ]
  },
  {
   "cell_type": "markdown",
   "metadata": {},
   "source": [
    "### Day 4"
   ]
  },
  {
   "cell_type": "code",
   "execution_count": 34,
   "metadata": {},
   "outputs": [
    {
     "data": {
      "text/plain": [
       "131"
      ]
     },
     "execution_count": 34,
     "metadata": {},
     "output_type": "execute_result"
    }
   ],
   "source": [
    "import re\n",
    "\n",
    "with open('d3.txt') as f:\n",
    "    ps = f.read()\n",
    "    \n",
    "batch = [r.replace('\\n', ' ') for r in ps.split('\\n\\n')]\n",
    "\n",
    "required_fields = ['byr', 'iyr', 'eyr', 'hgt', 'hcl', 'ecl', 'pid']\n",
    "        \n",
    "valid_passports = 0\n",
    "    \n",
    "for passport in batch:\n",
    "    fields = {}\n",
    "    \n",
    "    for field in passport.split():\n",
    "        fields[field.split(':')[0]] = field.split(':')[1]\n",
    "        \n",
    "    try:\n",
    "        for f in required_fields:\n",
    "            fields[f]\n",
    "        \n",
    "        # Birth year\n",
    "        byr = fields['byr']\n",
    "        if len(byr) != 4 or not (1920 <= int(byr) <= 2002):\n",
    "            continue\n",
    "            \n",
    "        # Issue year\n",
    "        iyr = fields['iyr']\n",
    "        if len(iyr) != 4 or not (2010 <= int(iyr) <= 2020):\n",
    "            continue\n",
    "            \n",
    "        # Expiry year\n",
    "        eyr = fields['eyr']\n",
    "        if len(eyr) != 4 or not (2020 <= int(eyr) <= 2030):\n",
    "            continue\n",
    "        \n",
    "        # Height\n",
    "        height = fields['hgt']\n",
    "        try:\n",
    "            magnitude = int(height[:len(height)-2])\n",
    "            unit = height[len(height)-2:]\n",
    "        except ValueError:\n",
    "            continue\n",
    "        \n",
    "        if unit not in ['cm', 'in']:\n",
    "            continue\n",
    "            \n",
    "        if unit == 'cm':\n",
    "            if not (150 <= magnitude <= 193):\n",
    "                continue\n",
    "        \n",
    "        if unit == 'in':\n",
    "            if not (59 <= magnitude <= 76):\n",
    "                continue\n",
    "                \n",
    "        # Hair Color\n",
    "        hcl = fields['hcl']\n",
    "        \n",
    "        if hcl[0] != '#' or len(hcl[1:]) != 6:\n",
    "            continue\n",
    "            \n",
    "        if not re.compile('^[a-z0-9]+$').match(hcl[1:]):\n",
    "            continue\n",
    "            \n",
    "        # Eye Color\n",
    "        ecl = fields['ecl']\n",
    "        acceptable_eyes = ['amb', 'blu', 'brn', 'gry', 'grn', 'hzl', 'oth']\n",
    "        \n",
    "        if not ecl in acceptable_eyes:\n",
    "            continue\n",
    "            \n",
    "        # PID\n",
    "        pid = fields['pid']\n",
    "        \n",
    "        if len(pid) != 9:\n",
    "            continue\n",
    "            \n",
    "        valid_passports += 1\n",
    "        \n",
    "    except KeyError:\n",
    "        pass\n",
    "\n",
    "valid_passports"
   ]
  },
  {
   "cell_type": "markdown",
   "metadata": {},
   "source": [
    "### Day 5"
   ]
  },
  {
   "cell_type": "code",
   "execution_count": 54,
   "metadata": {},
   "outputs": [],
   "source": [
    "import math\n",
    "\n",
    "def binary_partition(a, directions):\n",
    "    if len(a) == 1:\n",
    "        return a[0]\n",
    "    \n",
    "    midpoint = math.ceil((len(a)-1) / 2)\n",
    "    \n",
    "    direction = directions.pop()\n",
    "\n",
    "    if direction in ('F', 'L'):\n",
    "        a = a[0:midpoint]\n",
    "    else:\n",
    "        a = a[midpoint:]\n",
    "        \n",
    "    return binary_partition(a, directions)\n",
    "    \n",
    "        \n",
    "with open('d4.txt') as f:\n",
    "    passes = f.read().splitlines()\n"
   ]
  },
  {
   "cell_type": "code",
   "execution_count": 57,
   "metadata": {},
   "outputs": [
    {
     "name": "stdout",
     "output_type": "stream",
     "text": [
      "842\n"
     ]
    }
   ],
   "source": [
    "max_seat_id = 0\n",
    "highest_pass = ''\n",
    "\n",
    "obs_ids = []\n",
    "\n",
    "for bp in passes:\n",
    "    y = binary_partition(range(128), [c for c in bp[:7]][::-1])\n",
    "    x = binary_partition(range(8), [c for c in bp[7:]][::-1])\n",
    "    seat_id = (8 * y) + x\n",
    "    \n",
    "    # Added for part 2\n",
    "    obs_ids.append(seat_id)\n",
    "    \n",
    "    if seat_id > max_seat_id:\n",
    "        max_seat_id = seat_id\n",
    "        highest_pass = bp\n",
    "        \n",
    "print(max_seat_id)"
   ]
  },
  {
   "cell_type": "code",
   "execution_count": 62,
   "metadata": {},
   "outputs": [
    {
     "data": {
      "text/plain": [
       "{617}"
      ]
     },
     "execution_count": 62,
     "metadata": {},
     "output_type": "execute_result"
    }
   ],
   "source": [
    "# Part 2\n",
    "\n",
    "set(range(min(obs_ids), max(obs_ids)+1)).difference(set(obs_ids))"
   ]
  },
  {
   "cell_type": "code",
   "execution_count": null,
   "metadata": {},
   "outputs": [],
   "source": []
  }
 ],
 "metadata": {
  "kernelspec": {
   "display_name": "Python 3",
   "language": "python",
   "name": "python3"
  },
  "language_info": {
   "codemirror_mode": {
    "name": "ipython",
    "version": 3
   },
   "file_extension": ".py",
   "mimetype": "text/x-python",
   "name": "python",
   "nbconvert_exporter": "python",
   "pygments_lexer": "ipython3",
   "version": "3.7.4"
  }
 },
 "nbformat": 4,
 "nbformat_minor": 4
}
