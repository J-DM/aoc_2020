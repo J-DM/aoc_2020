{
 "cells": [
  {
   "cell_type": "code",
   "execution_count": 1,
   "metadata": {},
   "outputs": [],
   "source": [
    "import pandas as pd\n",
    "import numpy as np"
   ]
  },
  {
   "cell_type": "markdown",
   "metadata": {},
   "source": [
    "### Day 1"
   ]
  },
  {
   "cell_type": "code",
   "execution_count": 24,
   "metadata": {},
   "outputs": [],
   "source": [
    "with open('d0.txt') as f:\n",
    "    p_input = f.read().splitlines()"
   ]
  },
  {
   "cell_type": "code",
   "execution_count": 25,
   "metadata": {},
   "outputs": [
    {
     "data": {
      "text/html": [
       "<div>\n",
       "<style scoped>\n",
       "    .dataframe tbody tr th:only-of-type {\n",
       "        vertical-align: middle;\n",
       "    }\n",
       "\n",
       "    .dataframe tbody tr th {\n",
       "        vertical-align: top;\n",
       "    }\n",
       "\n",
       "    .dataframe thead th {\n",
       "        text-align: right;\n",
       "    }\n",
       "</style>\n",
       "<table border=\"1\" class=\"dataframe\">\n",
       "  <thead>\n",
       "    <tr style=\"text-align: right;\">\n",
       "      <th></th>\n",
       "      <th>a</th>\n",
       "      <th>b</th>\n",
       "      <th>total</th>\n",
       "      <th>product</th>\n",
       "    </tr>\n",
       "  </thead>\n",
       "  <tbody>\n",
       "    <tr>\n",
       "      <th>2858</th>\n",
       "      <td>1771</td>\n",
       "      <td>249</td>\n",
       "      <td>2020</td>\n",
       "      <td>440979</td>\n",
       "    </tr>\n",
       "    <tr>\n",
       "      <th>11614</th>\n",
       "      <td>249</td>\n",
       "      <td>1771</td>\n",
       "      <td>2020</td>\n",
       "      <td>440979</td>\n",
       "    </tr>\n",
       "  </tbody>\n",
       "</table>\n",
       "</div>"
      ],
      "text/plain": [
       "          a     b  total  product\n",
       "2858   1771   249   2020   440979\n",
       "11614   249  1771   2020   440979"
      ]
     },
     "execution_count": 25,
     "metadata": {},
     "output_type": "execute_result"
    }
   ],
   "source": [
    "index = pd.MultiIndex.from_product([p_input, p_input], names=['a', 'b'])\n",
    "\n",
    "df = pd.DataFrame(index=index).reset_index()\n",
    "\n",
    "df.a = pd.to_numeric(df.a)\n",
    "df.b = pd.to_numeric(df.b)\n",
    "\n",
    "df['total'] = df.a + df.b\n",
    "\n",
    "results = df[df.total == 2020].copy()\n",
    "\n",
    "results[\"product\"] = results.a * results.b\n",
    "\n",
    "results"
   ]
  },
  {
   "cell_type": "code",
   "execution_count": 26,
   "metadata": {},
   "outputs": [
    {
     "data": {
      "text/html": [
       "<div>\n",
       "<style scoped>\n",
       "    .dataframe tbody tr th:only-of-type {\n",
       "        vertical-align: middle;\n",
       "    }\n",
       "\n",
       "    .dataframe tbody tr th {\n",
       "        vertical-align: top;\n",
       "    }\n",
       "\n",
       "    .dataframe thead th {\n",
       "        text-align: right;\n",
       "    }\n",
       "</style>\n",
       "<table border=\"1\" class=\"dataframe\">\n",
       "  <thead>\n",
       "    <tr style=\"text-align: right;\">\n",
       "      <th></th>\n",
       "      <th>a</th>\n",
       "      <th>b</th>\n",
       "      <th>c</th>\n",
       "      <th>total</th>\n",
       "      <th>product</th>\n",
       "    </tr>\n",
       "  </thead>\n",
       "  <tbody>\n",
       "    <tr>\n",
       "      <th>2102926</th>\n",
       "      <td>274</td>\n",
       "      <td>194</td>\n",
       "      <td>1552</td>\n",
       "      <td>2020</td>\n",
       "      <td>82498112</td>\n",
       "    </tr>\n",
       "    <tr>\n",
       "      <th>2105314</th>\n",
       "      <td>274</td>\n",
       "      <td>1552</td>\n",
       "      <td>194</td>\n",
       "      <td>2020</td>\n",
       "      <td>82498112</td>\n",
       "    </tr>\n",
       "    <tr>\n",
       "      <th>4570526</th>\n",
       "      <td>194</td>\n",
       "      <td>274</td>\n",
       "      <td>1552</td>\n",
       "      <td>2020</td>\n",
       "      <td>82498112</td>\n",
       "    </tr>\n",
       "    <tr>\n",
       "      <th>4585252</th>\n",
       "      <td>194</td>\n",
       "      <td>1552</td>\n",
       "      <td>274</td>\n",
       "      <td>2020</td>\n",
       "      <td>82498112</td>\n",
       "    </tr>\n",
       "    <tr>\n",
       "      <th>5050514</th>\n",
       "      <td>1552</td>\n",
       "      <td>274</td>\n",
       "      <td>194</td>\n",
       "      <td>2020</td>\n",
       "      <td>82498112</td>\n",
       "    </tr>\n",
       "    <tr>\n",
       "      <th>5062852</th>\n",
       "      <td>1552</td>\n",
       "      <td>194</td>\n",
       "      <td>274</td>\n",
       "      <td>2020</td>\n",
       "      <td>82498112</td>\n",
       "    </tr>\n",
       "  </tbody>\n",
       "</table>\n",
       "</div>"
      ],
      "text/plain": [
       "            a     b     c  total   product\n",
       "2102926   274   194  1552   2020  82498112\n",
       "2105314   274  1552   194   2020  82498112\n",
       "4570526   194   274  1552   2020  82498112\n",
       "4585252   194  1552   274   2020  82498112\n",
       "5050514  1552   274   194   2020  82498112\n",
       "5062852  1552   194   274   2020  82498112"
      ]
     },
     "execution_count": 26,
     "metadata": {},
     "output_type": "execute_result"
    }
   ],
   "source": [
    "index = pd.MultiIndex.from_product([p_input, p_input, p_input], names=['a', 'b', 'c'])\n",
    "\n",
    "df = pd.DataFrame(index=index).reset_index()\n",
    "\n",
    "df.a = pd.to_numeric(df.a)\n",
    "df.b = pd.to_numeric(df.b)\n",
    "df.c = pd.to_numeric(df.c)\n",
    "\n",
    "df['total'] = df.a + df.b + df.c\n",
    "\n",
    "results = df[df.total == 2020].copy()\n",
    "\n",
    "results[\"product\"] = results.a * results.b * results.c\n",
    "\n",
    "results"
   ]
  },
  {
   "cell_type": "markdown",
   "metadata": {},
   "source": [
    "### Day 2"
   ]
  },
  {
   "cell_type": "code",
   "execution_count": 23,
   "metadata": {},
   "outputs": [],
   "source": [
    "with open('d1.txt') as f:\n",
    "    pi = f.read().splitlines()\n"
   ]
  },
  {
   "cell_type": "code",
   "execution_count": 18,
   "metadata": {},
   "outputs": [
    {
     "name": "stdout",
     "output_type": "stream",
     "text": [
      "414\n"
     ]
    }
   ],
   "source": [
    "## Part 1\n",
    "\n",
    "def is_valid(pw, min_i, max_i, char):\n",
    "    return min_i <= pw.count(char) <= max_i\n",
    "\n",
    "valid = 0\n",
    "\n",
    "for pw_s in pi:\n",
    "    pw_s = pw_s.split(' ')\n",
    "    min_instances = int(pw_s[0].split('-')[0])\n",
    "    max_instances = int(pw_s[0].split('-')[1])\n",
    "    char = pw_s[1][:len(pw_s[1])-1]\n",
    "    pw = pw_s[2]\n",
    "    \n",
    "    if is_valid(pw, min_instances, max_instances, char):\n",
    "        valid += 1\n",
    "        \n",
    "print(valid)\n",
    "    "
   ]
  },
  {
   "cell_type": "code",
   "execution_count": 37,
   "metadata": {},
   "outputs": [
    {
     "name": "stdout",
     "output_type": "stream",
     "text": [
      "413\n"
     ]
    }
   ],
   "source": [
    "## Part 2\n",
    "\n",
    "def is_valid(pw, pos_1, pos_2, char):\n",
    "    c1 = None\n",
    "    c2 = None\n",
    "    \n",
    "    try:\n",
    "        c1 = pw[pos_1-1]\n",
    "    except IndexError:\n",
    "        pass\n",
    "    try:\n",
    "        c2 = pw[pos_2-1]\n",
    "    except IndexError:\n",
    "        pass\n",
    "    \n",
    "    val_c = 0\n",
    "    if c1 == char:\n",
    "        val_c += 1\n",
    "    if c2 == char:\n",
    "        val_c += 1\n",
    "    if val_c == 1:\n",
    "        return True\n",
    "    return False\n",
    "\n",
    "\n",
    "valid = 0\n",
    "\n",
    "for pw_s in pi:\n",
    "    pw_s = pw_s.split(' ')\n",
    "    pos_1 = int(pw_s[0].split('-')[0])\n",
    "    pos_2 = int(pw_s[0].split('-')[1])\n",
    "    char = pw_s[1][:len(pw_s[1])-1]\n",
    "    pw = pw_s[2]\n",
    "    \n",
    "    if is_valid(pw, pos_1, pos_2, char):\n",
    "        valid += 1\n",
    "        \n",
    "print(valid)\n"
   ]
  },
  {
   "cell_type": "markdown",
   "metadata": {},
   "source": [
    "### Day 3"
   ]
  },
  {
   "cell_type": "code",
   "execution_count": 40,
   "metadata": {},
   "outputs": [],
   "source": [
    "with open('d2_t.txt') as f:\n",
    "    t_block = f.read().splitlines()\n",
    "  \n",
    "def t_map(c):\n",
    "    if c == '.':\n",
    "        return 0\n",
    "    return 1\n",
    "\n",
    "r = [[t_map(c) for c in row] for row in t_block]"
   ]
  },
  {
   "cell_type": "code",
   "execution_count": null,
   "metadata": {},
   "outputs": [],
   "source": [
    "height = len(r)\n",
    "width = len(r[0])\n",
    "\n",
    "across = 5\n",
    "down = 1\n",
    "\n",
    "step_a = across\n",
    "step_d = down\n",
    "\n",
    "total_trees = 0\n",
    "\n",
    "def tree_or_not(r, across, down):\n",
    "    return r[down % height][across % width]\n",
    "\n",
    "while down < height:\n",
    "    is_tree = tree_or_not(r, across, down)\n",
    "    across += step_a\n",
    "    down += step_d\n",
    "    \n",
    "    total_trees += is_tree\n",
    "    \n",
    "print(total_trees)\n",
    "\n"
   ]
  },
  {
   "cell_type": "code",
   "execution_count": 45,
   "metadata": {},
   "outputs": [
    {
     "data": {
      "text/plain": [
       "3584591857"
      ]
     },
     "execution_count": 45,
     "metadata": {},
     "output_type": "execute_result"
    }
   ],
   "source": [
    "67 * 211 * 77 * 89 * 37\n"
   ]
  },
  {
   "cell_type": "markdown",
   "metadata": {},
   "source": [
    "### Day 4"
   ]
  },
  {
   "cell_type": "code",
   "execution_count": 34,
   "metadata": {},
   "outputs": [
    {
     "data": {
      "text/plain": [
       "131"
      ]
     },
     "execution_count": 34,
     "metadata": {},
     "output_type": "execute_result"
    }
   ],
   "source": [
    "import re\n",
    "\n",
    "with open('d3.txt') as f:\n",
    "    ps = f.read()\n",
    "    \n",
    "batch = [r.replace('\\n', ' ') for r in ps.split('\\n\\n')]\n",
    "\n",
    "required_fields = ['byr', 'iyr', 'eyr', 'hgt', 'hcl', 'ecl', 'pid']\n",
    "        \n",
    "valid_passports = 0\n",
    "    \n",
    "for passport in batch:\n",
    "    fields = {}\n",
    "    \n",
    "    for field in passport.split():\n",
    "        fields[field.split(':')[0]] = field.split(':')[1]\n",
    "        \n",
    "    try:\n",
    "        for f in required_fields:\n",
    "            fields[f]\n",
    "        \n",
    "        # Birth year\n",
    "        byr = fields['byr']\n",
    "        if len(byr) != 4 or not (1920 <= int(byr) <= 2002):\n",
    "            continue\n",
    "            \n",
    "        # Issue year\n",
    "        iyr = fields['iyr']\n",
    "        if len(iyr) != 4 or not (2010 <= int(iyr) <= 2020):\n",
    "            continue\n",
    "            \n",
    "        # Expiry year\n",
    "        eyr = fields['eyr']\n",
    "        if len(eyr) != 4 or not (2020 <= int(eyr) <= 2030):\n",
    "            continue\n",
    "        \n",
    "        # Height\n",
    "        height = fields['hgt']\n",
    "        try:\n",
    "            magnitude = int(height[:len(height)-2])\n",
    "            unit = height[len(height)-2:]\n",
    "        except ValueError:\n",
    "            continue\n",
    "        \n",
    "        if unit not in ['cm', 'in']:\n",
    "            continue\n",
    "            \n",
    "        if unit == 'cm':\n",
    "            if not (150 <= magnitude <= 193):\n",
    "                continue\n",
    "        \n",
    "        if unit == 'in':\n",
    "            if not (59 <= magnitude <= 76):\n",
    "                continue\n",
    "                \n",
    "        # Hair Color\n",
    "        hcl = fields['hcl']\n",
    "        \n",
    "        if hcl[0] != '#' or len(hcl[1:]) != 6:\n",
    "            continue\n",
    "            \n",
    "        if not re.compile('^[a-z0-9]+$').match(hcl[1:]):\n",
    "            continue\n",
    "            \n",
    "        # Eye Color\n",
    "        ecl = fields['ecl']\n",
    "        acceptable_eyes = ['amb', 'blu', 'brn', 'gry', 'grn', 'hzl', 'oth']\n",
    "        \n",
    "        if not ecl in acceptable_eyes:\n",
    "            continue\n",
    "            \n",
    "        # PID\n",
    "        pid = fields['pid']\n",
    "        \n",
    "        if len(pid) != 9:\n",
    "            continue\n",
    "            \n",
    "        valid_passports += 1\n",
    "        \n",
    "    except KeyError:\n",
    "        pass\n",
    "\n",
    "valid_passports"
   ]
  },
  {
   "cell_type": "markdown",
   "metadata": {},
   "source": [
    "### Day 5"
   ]
  },
  {
   "cell_type": "code",
   "execution_count": 54,
   "metadata": {},
   "outputs": [],
   "source": [
    "import math\n",
    "\n",
    "def binary_partition(a, directions):\n",
    "    if len(a) == 1:\n",
    "        return a[0]\n",
    "    \n",
    "    midpoint = math.ceil((len(a)-1) / 2)\n",
    "    \n",
    "    direction = directions.pop()\n",
    "\n",
    "    if direction in ('F', 'L'):\n",
    "        a = a[0:midpoint]\n",
    "    else:\n",
    "        a = a[midpoint:]\n",
    "        \n",
    "    return binary_partition(a, directions)\n",
    "    \n",
    "        \n",
    "with open('d4.txt') as f:\n",
    "    passes = f.read().splitlines()\n"
   ]
  },
  {
   "cell_type": "code",
   "execution_count": 57,
   "metadata": {},
   "outputs": [
    {
     "name": "stdout",
     "output_type": "stream",
     "text": [
      "842\n"
     ]
    }
   ],
   "source": [
    "max_seat_id = 0\n",
    "highest_pass = ''\n",
    "\n",
    "obs_ids = []\n",
    "\n",
    "for bp in passes:\n",
    "    y = binary_partition(range(128), [c for c in bp[:7]][::-1])\n",
    "    x = binary_partition(range(8), [c for c in bp[7:]][::-1])\n",
    "    seat_id = (8 * y) + x\n",
    "    \n",
    "    # Added for part 2\n",
    "    obs_ids.append(seat_id)\n",
    "    \n",
    "    if seat_id > max_seat_id:\n",
    "        max_seat_id = seat_id\n",
    "        highest_pass = bp\n",
    "        \n",
    "print(max_seat_id)"
   ]
  },
  {
   "cell_type": "code",
   "execution_count": 62,
   "metadata": {},
   "outputs": [
    {
     "data": {
      "text/plain": [
       "{617}"
      ]
     },
     "execution_count": 62,
     "metadata": {},
     "output_type": "execute_result"
    }
   ],
   "source": [
    "# Part 2\n",
    "\n",
    "set(range(min(obs_ids), max(obs_ids)+1)).difference(set(obs_ids))"
   ]
  },
  {
   "cell_type": "markdown",
   "metadata": {},
   "source": [
    "### Day 6"
   ]
  },
  {
   "cell_type": "code",
   "execution_count": 30,
   "metadata": {},
   "outputs": [
    {
     "data": {
      "text/plain": [
       "6430"
      ]
     },
     "execution_count": 30,
     "metadata": {},
     "output_type": "execute_result"
    }
   ],
   "source": [
    "with open('d5.txt') as f:\n",
    "    gps = f.read()\n",
    "    \n",
    "sum([len(s) for s in [set(ans) for ans in [g.replace('\\n', '') for g in gps.split('\\n\\n')]]])"
   ]
  },
  {
   "cell_type": "code",
   "execution_count": 31,
   "metadata": {},
   "outputs": [
    {
     "data": {
      "text/plain": [
       "3125"
      ]
     },
     "execution_count": 31,
     "metadata": {},
     "output_type": "execute_result"
    }
   ],
   "source": [
    "# Part 2\n",
    "\n",
    "def get_intersection(g):\n",
    "    g = [set(m) for m in g]\n",
    "    return set.intersection(*g)\n",
    "\n",
    "sum([len(s) for s in [get_intersection(g) for g in [g.split('\\n') for g in gps.split('\\n\\n')]]])\n"
   ]
  },
  {
   "cell_type": "markdown",
   "metadata": {},
   "source": [
    "### Day 7"
   ]
  },
  {
   "cell_type": "code",
   "execution_count": 129,
   "metadata": {},
   "outputs": [],
   "source": [
    "with open('d6.txt') as f:\n",
    "    bgs = f.read().splitlines()"
   ]
  },
  {
   "cell_type": "code",
   "execution_count": 130,
   "metadata": {},
   "outputs": [
    {
     "data": {
      "text/plain": [
       "229"
      ]
     },
     "execution_count": 130,
     "metadata": {},
     "output_type": "execute_result"
    }
   ],
   "source": [
    "class Bag():\n",
    "    def __init__(self, input_line):\n",
    "        split_input = input_line.split()\n",
    "        self.name = ' '.join(split_input[:2])\n",
    "        self.contains = {}\n",
    "        \n",
    "        for i in range(input_line.count(',')+1):\n",
    "            if 'contain no other bags' in input_line:\n",
    "                break\n",
    "            self.contains[' '.join([split_input[5+(4*i)], split_input[6+(4*i)]])] = int(split_input[4+(4*i)])\n",
    "                    \n",
    "bags = {}\n",
    "graph = {}\n",
    "\n",
    "for b in bgs:\n",
    "    bag = Bag(b)\n",
    "    graph[bag.name] = list(bag.contains)\n",
    "    bags[bag.name] = bag\n",
    "    \n",
    "def find_path(graph, start, end, path=[]):\n",
    "    path = path + [start]\n",
    "    if start == end:\n",
    "        return path\n",
    "    if not start in graph:\n",
    "        return None\n",
    "    for node in graph[start]:\n",
    "        if node not in path:\n",
    "            newpath = find_path(graph, node, end, path)\n",
    "            if newpath: return newpath\n",
    "    return None\n",
    "    \n",
    "paths = []\n",
    "\n",
    "for b in bags.items():\n",
    "    paths.append(find_path(graph, b[0], 'shiny gold'))\n",
    "\n",
    "len(paths) - paths.count(None) - 1\n"
   ]
  },
  {
   "cell_type": "code",
   "execution_count": 134,
   "metadata": {},
   "outputs": [
    {
     "name": "stdout",
     "output_type": "stream",
     "text": [
      "6683\n"
     ]
    }
   ],
   "source": [
    "from itertools import chain\n",
    "\n",
    "def get_contents(bags, bag_label):\n",
    "    contents = []\n",
    "    for k, v in bags[bag_label].contains.items():\n",
    "        for _ in range(v):\n",
    "            contents.append(k)\n",
    "    return contents\n",
    "    \n",
    "bag_contents = get_contents(bags, 'shiny gold')\n",
    "total_bags = len(bag_contents)\n",
    "\n",
    "while bag_contents.count('') < len(bag_contents):  \n",
    "    bag_contents = [get_contents(bags, bl) for bl in bag_contents]\n",
    "    bag_contents = list(chain(*bag_contents))\n",
    "    total_bags += len(bag_contents)\n",
    "\n",
    "print(total_bags)"
   ]
  },
  {
   "cell_type": "markdown",
   "metadata": {},
   "source": [
    "### Day 8"
   ]
  },
  {
   "cell_type": "code",
   "execution_count": 73,
   "metadata": {},
   "outputs": [
    {
     "data": {
      "text/plain": [
       "(0, 1528)"
      ]
     },
     "execution_count": 73,
     "metadata": {},
     "output_type": "execute_result"
    }
   ],
   "source": [
    "with open('d7.txt') as f:\n",
    "    asm = f.read().splitlines()\n",
    "    \n",
    "commands = [(ins.split()[0], ins.split()[1][0], int(ins.split()[1][1:])) for ins in asm]\n",
    "\n",
    "def run_program(commands):\n",
    "    accumulator = 0\n",
    "    p_a = ('null', 0)\n",
    "    ix = 0\n",
    "    positions = []\n",
    "\n",
    "    try:\n",
    "        while len(positions) == len(set(positions)):\n",
    "            c = commands[ix]\n",
    "            positions.append(ix)\n",
    "\n",
    "            if c[0] == 'nop':\n",
    "                ix += 1\n",
    "\n",
    "            if c[0] == 'acc':\n",
    "                if c[1] == '+':\n",
    "                    p_a = (c[0], accumulator)\n",
    "                    accumulator += c[2]\n",
    "                else:\n",
    "                    p_a = (c[0], accumulator)\n",
    "                    accumulator -= c[2]\n",
    "                ix += 1\n",
    "\n",
    "            if c[0] == 'jmp':\n",
    "                if c[1] == '+':\n",
    "                    ix += c[2]\n",
    "                else:\n",
    "                    ix -= c[2]\n",
    "    except IndexError:\n",
    "        return (1, \"Terminated with: {}\".format(accumulator))\n",
    "\n",
    "    if p_a[0] == 'acc':\n",
    "        return (0, p_a[1])\n",
    "    else:\n",
    "        return (0, accumulator)\n",
    "    \n",
    "run_program(commands)\n",
    "    "
   ]
  },
  {
   "cell_type": "code",
   "execution_count": 74,
   "metadata": {},
   "outputs": [
    {
     "name": "stdout",
     "output_type": "stream",
     "text": [
      "(1, 'Terminated with: 640')\n"
     ]
    }
   ],
   "source": [
    "for i in range(len(commands)):\n",
    "    test_commands = commands[:]\n",
    "    \n",
    "    if test_commands[i][0] == 'acc':\n",
    "        continue\n",
    "\n",
    "    if test_commands[i][0] == 'nop':\n",
    "        test_commands[i] = ('jmp', test_commands[i][1], test_commands[i][2])\n",
    "        \n",
    "    elif test_commands[i][0] == 'jmp':\n",
    "        test_commands[i] = ('nop', test_commands[i][1], test_commands[i][2])\n",
    "\n",
    "    result = run_program(test_commands)\n",
    "    \n",
    "    if result[0] == 1:\n",
    "        print(result)\n",
    "        break\n",
    "    \n"
   ]
  },
  {
   "cell_type": "markdown",
   "metadata": {},
   "source": [
    "### Day 9"
   ]
  },
  {
   "cell_type": "code",
   "execution_count": 53,
   "metadata": {},
   "outputs": [
    {
     "name": "stdout",
     "output_type": "stream",
     "text": [
      "50047984\n"
     ]
    }
   ],
   "source": [
    "from itertools import combinations\n",
    "\n",
    "with open('d8.txt') as f:\n",
    "    s = [int(n) for n in f.read().splitlines()]\n",
    "\n",
    "len_preamble = 25\n",
    "\n",
    "def is_valid(l_slice, n):\n",
    "    for c in set(combinations(l_slice, 2)):\n",
    "        if sum(c) == n:\n",
    "            return True\n",
    "    return False\n",
    "\n",
    "for i in range(len_preamble, len(s)):\n",
    "    if not is_valid(s[i-len_preamble:i+1], s[i]):\n",
    "        key = s[i]\n",
    "        print(s[i])\n",
    "        break\n",
    "\n"
   ]
  },
  {
   "cell_type": "code",
   "execution_count": 54,
   "metadata": {},
   "outputs": [
    {
     "name": "stdout",
     "output_type": "stream",
     "text": [
      "5407707\n"
     ]
    }
   ],
   "source": [
    "for c_len in range(2, len(s)+1):\n",
    "    for i in range(c_len, len(s)+1):\n",
    "        l_slice = s[i-c_len:i]\n",
    "        if sum(l_slice) ==  key:\n",
    "            print(min(l_slice) + max(l_slice))\n"
   ]
  },
  {
   "cell_type": "markdown",
   "metadata": {},
   "source": [
    "### Day 10"
   ]
  },
  {
   "cell_type": "code",
   "execution_count": 30,
   "metadata": {},
   "outputs": [
    {
     "name": "stdout",
     "output_type": "stream",
     "text": [
      "1914\n"
     ]
    }
   ],
   "source": [
    "from collections import deque\n",
    "\n",
    "with open('d9.txt') as f:\n",
    "    adapters = [int(n) for n in f.read().splitlines()]\n",
    "    \n",
    "sa = sorted(adapters)\n",
    "sa.append(sa[-1]+3)\n",
    "sar = [0] + sa\n",
    "\n",
    "diffs = [t[0] - t[1] for t in zip(sa, sar)]\n",
    "\n",
    "print(diffs.count(1) * diffs.count(3))"
   ]
  },
  {
   "cell_type": "code",
   "execution_count": 33,
   "metadata": {},
   "outputs": [
    {
     "data": {
      "text/plain": [
       "9256148959232"
      ]
     },
     "execution_count": 33,
     "metadata": {},
     "output_type": "execute_result"
    }
   ],
   "source": [
    "from collections import defaultdict\n",
    "\n",
    "graph = defaultdict(list)\n",
    "paths = defaultdict(int)\n",
    "paths[0] = 1\n",
    "\n",
    "for i in range(len(sar)):\n",
    "    # Sequential Adapters\n",
    "    n_a = i + 1\n",
    "    \n",
    "    # Loop through while diff is small enough\n",
    "    while n_a < len(sar) and sar[n_a] - sar[i] < 4:\n",
    "        \n",
    "        paths[n_a] += paths[i]\n",
    "        n_a += 1\n",
    "\n",
    "paths[n_a-1]\n"
   ]
  },
  {
   "cell_type": "code",
   "execution_count": null,
   "metadata": {},
   "outputs": [],
   "source": []
  },
  {
   "cell_type": "code",
   "execution_count": null,
   "metadata": {},
   "outputs": [],
   "source": []
  },
  {
   "cell_type": "code",
   "execution_count": null,
   "metadata": {},
   "outputs": [],
   "source": []
  },
  {
   "cell_type": "code",
   "execution_count": null,
   "metadata": {},
   "outputs": [],
   "source": []
  }
 ],
 "metadata": {
  "kernelspec": {
   "display_name": "Python 3",
   "language": "python",
   "name": "python3"
  },
  "language_info": {
   "codemirror_mode": {
    "name": "ipython",
    "version": 3
   },
   "file_extension": ".py",
   "mimetype": "text/x-python",
   "name": "python",
   "nbconvert_exporter": "python",
   "pygments_lexer": "ipython3",
   "version": "3.9.1"
  }
 },
 "nbformat": 4,
 "nbformat_minor": 4
}
